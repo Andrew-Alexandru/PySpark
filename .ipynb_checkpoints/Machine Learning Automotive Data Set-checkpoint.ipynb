{
 "cells": [
  {
   "cell_type": "code",
   "execution_count": 1,
   "metadata": {},
   "outputs": [],
   "source": [
    "import pyspark\n",
    "from pyspark import SparkContext\n",
    "sc = SparkContext()"
   ]
  },
  {
   "cell_type": "code",
   "execution_count": 2,
   "metadata": {},
   "outputs": [],
   "source": [
    "from pyspark.sql import Row\n",
    "from pyspark.sql import SQLContext\n",
    "sqlContext = SQLContext(sc)"
   ]
  },
  {
   "cell_type": "code",
   "execution_count": 3,
   "metadata": {},
   "outputs": [],
   "source": [
    "from pyspark.sql import SQLContext\n",
    "url = \"Automobile_data.csv\"\n",
    "from pyspark import SparkFiles\n",
    "sc.addFile(url)\n",
    "sqlContext = SQLContext(sc)"
   ]
  },
  {
   "cell_type": "code",
   "execution_count": 4,
   "metadata": {},
   "outputs": [
    {
     "name": "stdout",
     "output_type": "stream",
     "text": [
      "root\n",
      " |-- symboling: integer (nullable = true)\n",
      " |-- normalized-losses: string (nullable = true)\n",
      " |-- make: string (nullable = true)\n",
      " |-- fuel-type: string (nullable = true)\n",
      " |-- aspiration: string (nullable = true)\n",
      " |-- num-of-doors: string (nullable = true)\n",
      " |-- body-style: string (nullable = true)\n",
      " |-- drive-wheels: string (nullable = true)\n",
      " |-- engine-location: string (nullable = true)\n",
      " |-- wheel-base: double (nullable = true)\n",
      " |-- length: double (nullable = true)\n",
      " |-- width: double (nullable = true)\n",
      " |-- height: double (nullable = true)\n",
      " |-- curb-weight: integer (nullable = true)\n",
      " |-- engine-type: string (nullable = true)\n",
      " |-- num-of-cylinders: string (nullable = true)\n",
      " |-- engine-size: integer (nullable = true)\n",
      " |-- fuel-system: string (nullable = true)\n",
      " |-- bore: string (nullable = true)\n",
      " |-- stroke: string (nullable = true)\n",
      " |-- compression-ratio: double (nullable = true)\n",
      " |-- horsepower: string (nullable = true)\n",
      " |-- peak-rpm: string (nullable = true)\n",
      " |-- city-mpg: integer (nullable = true)\n",
      " |-- highway-mpg: integer (nullable = true)\n",
      " |-- price: string (nullable = true)\n",
      "\n"
     ]
    }
   ],
   "source": [
    "df = sqlContext.read.csv(SparkFiles.get(\"Automobile_data.csv\"), header=True, inferSchema= True)\n",
    "df.printSchema()"
   ]
  },
  {
   "cell_type": "code",
   "execution_count": 5,
   "metadata": {},
   "outputs": [
    {
     "name": "stdout",
     "output_type": "stream",
     "text": [
      "+---------+-----------------+-----------+---------+----------+------------+-----------+------------+---------------+----------+------+-----+------+-----------+-----------+----------------+-----------+-----------+----+------+-----------------+----------+--------+--------+-----------+-----+\n",
      "|symboling|normalized-losses|make       |fuel-type|aspiration|num-of-doors|body-style |drive-wheels|engine-location|wheel-base|length|width|height|curb-weight|engine-type|num-of-cylinders|engine-size|fuel-system|bore|stroke|compression-ratio|horsepower|peak-rpm|city-mpg|highway-mpg|price|\n",
      "+---------+-----------------+-----------+---------+----------+------------+-----------+------------+---------------+----------+------+-----+------+-----------+-----------+----------------+-----------+-----------+----+------+-----------------+----------+--------+--------+-----------+-----+\n",
      "|3        |?                |alfa-romero|gas      |std       |two         |convertible|rwd         |front          |88.6      |168.8 |64.1 |48.8  |2548       |dohc       |four            |130        |mpfi       |3.47|2.68  |9.0              |111       |5000    |21      |27         |13495|\n",
      "|3        |?                |alfa-romero|gas      |std       |two         |convertible|rwd         |front          |88.6      |168.8 |64.1 |48.8  |2548       |dohc       |four            |130        |mpfi       |3.47|2.68  |9.0              |111       |5000    |21      |27         |16500|\n",
      "|1        |?                |alfa-romero|gas      |std       |two         |hatchback  |rwd         |front          |94.5      |171.2 |65.5 |52.4  |2823       |ohcv       |six             |152        |mpfi       |2.68|3.47  |9.0              |154       |5000    |19      |26         |16500|\n",
      "|2        |164              |audi       |gas      |std       |four        |sedan      |fwd         |front          |99.8      |176.6 |66.2 |54.3  |2337       |ohc        |four            |109        |mpfi       |3.19|3.4   |10.0             |102       |5500    |24      |30         |13950|\n",
      "|2        |164              |audi       |gas      |std       |four        |sedan      |4wd         |front          |99.4      |176.6 |66.4 |54.3  |2824       |ohc        |five            |136        |mpfi       |3.19|3.4   |8.0              |115       |5500    |18      |22         |17450|\n",
      "+---------+-----------------+-----------+---------+----------+------------+-----------+------------+---------------+----------+------+-----+------+-----------+-----------+----------------+-----------+-----------+----+------+-----------------+----------+--------+--------+-----------+-----+\n",
      "only showing top 5 rows\n",
      "\n"
     ]
    }
   ],
   "source": [
    "df.show(5, truncate = False)\n"
   ]
  },
  {
   "cell_type": "code",
   "execution_count": 7,
   "metadata": {},
   "outputs": [
    {
     "name": "stdout",
     "output_type": "stream",
     "text": [
      "root\n",
      " |-- symboling: string (nullable = true)\n",
      " |-- normalized-losses: string (nullable = true)\n",
      " |-- make: string (nullable = true)\n",
      " |-- fuel-type: string (nullable = true)\n",
      " |-- aspiration: string (nullable = true)\n",
      " |-- num-of-doors: string (nullable = true)\n",
      " |-- body-style: string (nullable = true)\n",
      " |-- drive-wheels: string (nullable = true)\n",
      " |-- engine-location: string (nullable = true)\n",
      " |-- wheel-base: string (nullable = true)\n",
      " |-- length: string (nullable = true)\n",
      " |-- width: string (nullable = true)\n",
      " |-- height: string (nullable = true)\n",
      " |-- curb-weight: string (nullable = true)\n",
      " |-- engine-type: string (nullable = true)\n",
      " |-- num-of-cylinders: string (nullable = true)\n",
      " |-- engine-size: string (nullable = true)\n",
      " |-- fuel-system: string (nullable = true)\n",
      " |-- bore: string (nullable = true)\n",
      " |-- stroke: string (nullable = true)\n",
      " |-- compression-ratio: string (nullable = true)\n",
      " |-- horsepower: string (nullable = true)\n",
      " |-- peak-rpm: string (nullable = true)\n",
      " |-- city-mpg: string (nullable = true)\n",
      " |-- highway-mpg: string (nullable = true)\n",
      " |-- price: string (nullable = true)\n",
      "\n"
     ]
    }
   ],
   "source": [
    "df = sqlContext.read.csv(SparkFiles.get(\"Automobile_data.csv\"), header=True, inferSchema= False)\n",
    "df.printSchema()\n",
    "# if inferSchema set False all columns from csv are set to string\n",
    "# else their type(int,float ) from csv file"
   ]
  },
  {
   "cell_type": "code",
   "execution_count": 11,
   "metadata": {},
   "outputs": [
    {
     "name": "stdout",
     "output_type": "stream",
     "text": [
      "root\n",
      " |-- symboling: integer (nullable = true)\n",
      " |-- normalized-losses: string (nullable = true)\n",
      " |-- make: string (nullable = true)\n",
      " |-- fuel-type: string (nullable = true)\n",
      " |-- aspiration: string (nullable = true)\n",
      " |-- num-of-doors: string (nullable = true)\n",
      " |-- body-style: string (nullable = true)\n",
      " |-- drive-wheels: string (nullable = true)\n",
      " |-- engine-location: string (nullable = true)\n",
      " |-- wheel-base: double (nullable = true)\n",
      " |-- length: double (nullable = true)\n",
      " |-- width: double (nullable = true)\n",
      " |-- height: double (nullable = true)\n",
      " |-- curb-weight: integer (nullable = true)\n",
      " |-- engine-type: string (nullable = true)\n",
      " |-- num-of-cylinders: string (nullable = true)\n",
      " |-- engine-size: integer (nullable = true)\n",
      " |-- fuel-system: string (nullable = true)\n",
      " |-- bore: string (nullable = true)\n",
      " |-- stroke: string (nullable = true)\n",
      " |-- compression-ratio: double (nullable = true)\n",
      " |-- horsepower: string (nullable = true)\n",
      " |-- peak-rpm: string (nullable = true)\n",
      " |-- city-mpg: integer (nullable = true)\n",
      " |-- highway-mpg: integer (nullable = true)\n",
      " |-- price: string (nullable = true)\n",
      "\n",
      "root\n",
      " |-- symboling: integer (nullable = true)\n",
      " |-- normalized-losses: string (nullable = true)\n",
      " |-- make: float (nullable = true)\n",
      " |-- fuel-type: float (nullable = true)\n",
      " |-- aspiration: float (nullable = true)\n",
      " |-- num-of-doors: float (nullable = true)\n",
      " |-- body-style: string (nullable = true)\n",
      " |-- drive-wheels: string (nullable = true)\n",
      " |-- engine-location: string (nullable = true)\n",
      " |-- wheel-base: float (nullable = true)\n",
      " |-- length: double (nullable = true)\n",
      " |-- width: double (nullable = true)\n",
      " |-- height: double (nullable = true)\n",
      " |-- curb-weight: integer (nullable = true)\n",
      " |-- engine-type: string (nullable = true)\n",
      " |-- num-of-cylinders: string (nullable = true)\n",
      " |-- engine-size: integer (nullable = true)\n",
      " |-- fuel-system: float (nullable = true)\n",
      " |-- bore: string (nullable = true)\n",
      " |-- stroke: string (nullable = true)\n",
      " |-- compression-ratio: double (nullable = true)\n",
      " |-- horsepower: string (nullable = true)\n",
      " |-- peak-rpm: string (nullable = true)\n",
      " |-- city-mpg: integer (nullable = true)\n",
      " |-- highway-mpg: integer (nullable = true)\n",
      " |-- price: string (nullable = true)\n",
      "\n"
     ]
    }
   ],
   "source": [
    "from pyspark.sql.types import *\n",
    "\n",
    "df_string = sqlContext.read.csv(SparkFiles.get(\"Automobile_data.csv\"), header=True, inferSchema=  True)\n",
    "df_string.printSchema()\n",
    "\n",
    "# Write a custom function to convert the data type of DataFrame columns\n",
    "def convertColumn(df, names, newType):\n",
    "    for name in names: \n",
    "        df = df.withColumn(name, df[name].cast(newType))\n",
    "    return df \n",
    "# List of continuous features\n",
    "CONTI_FEATURES  = ['make', 'fuel-type','num-of-doors', 'aspiration', 'wheel-base', 'fuel-system']\n",
    "# Convert the type\n",
    "df_string = convertColumn(df_string, CONTI_FEATURES, FloatType())\n",
    "# Check the dataset\n",
    "df_string.printSchema()\n",
    "\n",
    "from pyspark.ml.feature import StringIndexer\n",
    "#stringIndexer = StringIndexer(inputCol=\"label\", outputCol=\"newlabel\")\n",
    "#model = stringIndexer.fit(df)\n",
    "#df = model.transform(df)\n",
    "df.printSchema()"
   ]
  },
  {
   "cell_type": "code",
   "execution_count": 12,
   "metadata": {},
   "outputs": [
    {
     "name": "stdout",
     "output_type": "stream",
     "text": [
      "root\n",
      " |-- symboling: integer (nullable = true)\n",
      " |-- normalized-losses: string (nullable = true)\n",
      " |-- make: string (nullable = true)\n",
      " |-- fuel-type: string (nullable = true)\n",
      " |-- aspiration: string (nullable = true)\n",
      " |-- num-of-doors: string (nullable = true)\n",
      " |-- body-style: string (nullable = true)\n",
      " |-- drive-wheels: string (nullable = true)\n",
      " |-- engine-location: string (nullable = true)\n",
      " |-- wheel-base: double (nullable = true)\n",
      " |-- length: double (nullable = true)\n",
      " |-- width: double (nullable = true)\n",
      " |-- height: double (nullable = true)\n",
      " |-- curb-weight: integer (nullable = true)\n",
      " |-- engine-type: string (nullable = true)\n",
      " |-- num-of-cylinders: string (nullable = true)\n",
      " |-- engine-size: integer (nullable = true)\n",
      " |-- fuel-system: string (nullable = true)\n",
      " |-- bore: string (nullable = true)\n",
      " |-- stroke: string (nullable = true)\n",
      " |-- compression-ratio: double (nullable = true)\n",
      " |-- horsepower: string (nullable = true)\n",
      " |-- peak-rpm: string (nullable = true)\n",
      " |-- city-mpg: integer (nullable = true)\n",
      " |-- highway-mpg: integer (nullable = true)\n",
      " |-- price: string (nullable = true)\n",
      "\n",
      "root\n",
      " |-- symboling: integer (nullable = true)\n",
      " |-- normalized-losses: string (nullable = true)\n",
      " |-- make: float (nullable = true)\n",
      " |-- fuel-type: float (nullable = true)\n",
      " |-- aspiration: float (nullable = true)\n",
      " |-- num-of-doors: float (nullable = true)\n",
      " |-- body-style: string (nullable = true)\n",
      " |-- drive-wheels: string (nullable = true)\n",
      " |-- engine-location: string (nullable = true)\n",
      " |-- wheel-base: float (nullable = true)\n",
      " |-- length: double (nullable = true)\n",
      " |-- width: double (nullable = true)\n",
      " |-- height: double (nullable = true)\n",
      " |-- curb-weight: integer (nullable = true)\n",
      " |-- engine-type: string (nullable = true)\n",
      " |-- num-of-cylinders: string (nullable = true)\n",
      " |-- engine-size: integer (nullable = true)\n",
      " |-- fuel-system: float (nullable = true)\n",
      " |-- bore: string (nullable = true)\n",
      " |-- stroke: string (nullable = true)\n",
      " |-- compression-ratio: double (nullable = true)\n",
      " |-- horsepower: string (nullable = true)\n",
      " |-- peak-rpm: string (nullable = true)\n",
      " |-- city-mpg: integer (nullable = true)\n",
      " |-- highway-mpg: integer (nullable = true)\n",
      " |-- price: string (nullable = true)\n",
      "\n",
      "root\n",
      " |-- symboling: string (nullable = true)\n",
      " |-- normalized-losses: string (nullable = true)\n",
      " |-- make: string (nullable = true)\n",
      " |-- fuel-type: string (nullable = true)\n",
      " |-- aspiration: string (nullable = true)\n",
      " |-- num-of-doors: string (nullable = true)\n",
      " |-- body-style: string (nullable = true)\n",
      " |-- drive-wheels: string (nullable = true)\n",
      " |-- engine-location: string (nullable = true)\n",
      " |-- wheel-base: string (nullable = true)\n",
      " |-- length: string (nullable = true)\n",
      " |-- width: string (nullable = true)\n",
      " |-- height: string (nullable = true)\n",
      " |-- curb-weight: string (nullable = true)\n",
      " |-- engine-type: string (nullable = true)\n",
      " |-- num-of-cylinders: string (nullable = true)\n",
      " |-- engine-size: string (nullable = true)\n",
      " |-- fuel-system: string (nullable = true)\n",
      " |-- bore: string (nullable = true)\n",
      " |-- stroke: string (nullable = true)\n",
      " |-- compression-ratio: string (nullable = true)\n",
      " |-- horsepower: string (nullable = true)\n",
      " |-- peak-rpm: string (nullable = true)\n",
      " |-- city-mpg: string (nullable = true)\n",
      " |-- highway-mpg: string (nullable = true)\n",
      " |-- price: string (nullable = true)\n",
      "\n"
     ]
    }
   ],
   "source": [
    "from pyspark.sql.types import *\n",
    "\n",
    "df_string = sqlContext.read.csv(SparkFiles.get(\"Automobile_data.csv\"), header=True, inferSchema=  True)\n",
    "df_string.printSchema()\n",
    "\n",
    "# Write a custom function to convert the data type of DataFrame columns\n",
    "def convertColumn(df, names, newType):\n",
    "    for name in names: \n",
    "        df = df.withColumn(name, df[name].cast(newType))\n",
    "    return df \n",
    "# List of continuous features\n",
    "CONTI_FEATURES  = ['make', 'fuel-type','num-of-doors', 'aspiration', 'wheel-base', 'fuel-system']\n",
    "# Convert the type\n",
    "df_string = convertColumn(df_string, CONTI_FEATURES, FloatType())\n",
    "# Check the dataset\n",
    "df_string.printSchema()\n",
    "\n",
    "from pyspark.ml.feature import StringIndexer\n",
    "#stringIndexer = StringIndexer(inputCol=\"label\", outputCol=\"newlabel\")\n",
    "#model = stringIndexer.fit(df)\n",
    "#df = model.transform(df)\n",
    "df.printSchema()"
   ]
  },
  {
   "cell_type": "code",
   "execution_count": 13,
   "metadata": {},
   "outputs": [
    {
     "name": "stdout",
     "output_type": "stream",
     "text": [
      "+---------+-----------+\n",
      "|fuel-type|       make|\n",
      "+---------+-----------+\n",
      "|      gas|alfa-romero|\n",
      "|      gas|alfa-romero|\n",
      "|      gas|alfa-romero|\n",
      "|      gas|       audi|\n",
      "|      gas|       audi|\n",
      "+---------+-----------+\n",
      "only showing top 5 rows\n",
      "\n"
     ]
    }
   ],
   "source": [
    "df.select('fuel-type','make').show(5)"
   ]
  },
  {
   "cell_type": "code",
   "execution_count": 14,
   "metadata": {},
   "outputs": [
    {
     "name": "stdout",
     "output_type": "stream",
     "text": [
      "+-------------+-----+\n",
      "|         make|count|\n",
      "+-------------+-----+\n",
      "|  alfa-romero|    3|\n",
      "|         audi|    7|\n",
      "|          bmw|    8|\n",
      "|    chevrolet|    3|\n",
      "|        dodge|    9|\n",
      "|        honda|   13|\n",
      "|        isuzu|    4|\n",
      "|       jaguar|    3|\n",
      "|        mazda|   17|\n",
      "|mercedes-benz|    8|\n",
      "|      mercury|    1|\n",
      "|   mitsubishi|   13|\n",
      "|       nissan|   18|\n",
      "|       peugot|   11|\n",
      "|     plymouth|    7|\n",
      "|      porsche|    5|\n",
      "|      renault|    2|\n",
      "|         saab|    6|\n",
      "|       subaru|   12|\n",
      "|       toyota|   32|\n",
      "+-------------+-----+\n",
      "only showing top 20 rows\n",
      "\n"
     ]
    }
   ],
   "source": [
    "df.groupBy(\"make\").count().sort(\"make\",ascending=True).show()"
   ]
  },
  {
   "cell_type": "code",
   "execution_count": 15,
   "metadata": {},
   "outputs": [
    {
     "name": "stdout",
     "output_type": "stream",
     "text": [
      "+-------+------------------+-----------------+-----------+---------+----------+------------+-----------+------------+---------------+------------------+------------------+-----------------+------------------+------------------+-----------+----------------+------------------+-----------+------------------+------------------+------------------+------------------+-----------------+-----------------+-----------------+------------------+\n",
      "|summary|         symboling|normalized-losses|       make|fuel-type|aspiration|num-of-doors| body-style|drive-wheels|engine-location|        wheel-base|            length|            width|            height|       curb-weight|engine-type|num-of-cylinders|       engine-size|fuel-system|              bore|            stroke| compression-ratio|        horsepower|         peak-rpm|         city-mpg|      highway-mpg|             price|\n",
      "+-------+------------------+-----------------+-----------+---------+----------+------------+-----------+------------+---------------+------------------+------------------+-----------------+------------------+------------------+-----------+----------------+------------------+-----------+------------------+------------------+------------------+------------------+-----------------+-----------------+-----------------+------------------+\n",
      "|  count|               205|              205|        205|      205|       205|         205|        205|         205|            205|               205|               205|              205|               205|               205|        205|             205|               205|        205|               205|               205|               205|               205|              205|              205|              205|               205|\n",
      "|   mean|0.8341463414634146|            122.0|       null|     null|      null|        null|       null|        null|           null| 98.75658536585378|174.04926829268305|65.90780487804875|53.724878048780525|2555.5658536585365|       null|            null|126.90731707317073|       null|3.3297512437810957|3.2554228855721337|10.142536585365855|104.25615763546799|5125.369458128079|25.21951219512195|30.75121951219512|13207.129353233831|\n",
      "| stddev|1.2453068281055295|35.44216753055326|       null|     null|      null|        null|       null|        null|           null|6.0217756850255695|12.337288526555188|2.145203852687182| 2.443521969904905| 520.6802035016384|       null|            null|41.642693438179855|       null|0.2735387318295989|0.3167174533770312|3.9720403218632985| 39.71436878679357|479.3345598334159| 6.54214165300162|6.886443130941823| 7947.066341939271|\n",
      "|    min|                -1|              101|alfa-romero|   diesel|       std|           ?|convertible|         4wd|          front|             100.4|             141.1|             60.3|              47.8|              1488|       dohc|           eight|               103|       1bbl|              2.54|              2.07|                10|               100|             4150|               13|               16|             10198|\n",
      "|    max|                 3|                ?|      volvo|      gas|     turbo|         two|      wagon|         rwd|           rear|              99.8|             208.1|             72.3|              59.8|              4066|      rotor|             two|                98|       spfi|                 ?|                 ?|               9.6|                 ?|                ?|               49|               54|                 ?|\n",
      "+-------+------------------+-----------------+-----------+---------+----------+------------+-----------+------------+---------------+------------------+------------------+-----------------+------------------+------------------+-----------+----------------+------------------+-----------+------------------+------------------+------------------+------------------+-----------------+-----------------+-----------------+------------------+\n",
      "\n"
     ]
    }
   ],
   "source": [
    "df.describe().show()\n"
   ]
  },
  {
   "cell_type": "code",
   "execution_count": 16,
   "metadata": {},
   "outputs": [
    {
     "name": "stdout",
     "output_type": "stream",
     "text": [
      "+-------+---------------+\n",
      "|summary|engine-location|\n",
      "+-------+---------------+\n",
      "|  count|            205|\n",
      "|   mean|           null|\n",
      "| stddev|           null|\n",
      "|    min|          front|\n",
      "|    max|           rear|\n",
      "+-------+---------------+\n",
      "\n"
     ]
    }
   ],
   "source": [
    "df.describe('engine-location').show()"
   ]
  },
  {
   "cell_type": "code",
   "execution_count": 20,
   "metadata": {},
   "outputs": [
    {
     "ename": "AnalysisException",
     "evalue": "cannot resolve '`make`' given input columns: [alfa-romero, audi, bmw, chevrolet, dodge, engine-location_make, honda, isuzu, jaguar, mazda, mercedes-benz, mercury, mitsubishi, nissan, peugot, plymouth, porsche, renault, saab, subaru, toyota, volkswagen, volvo];;\n'Sort ['make ASC NULLS FIRST], true\n+- Project [engine-location_make#3301, coalesce(alfa-romero#3302L, cast(0.0 as bigint)) AS alfa-romero#3370L, coalesce(audi#3303L, cast(0.0 as bigint)) AS audi#3371L, coalesce(bmw#3304L, cast(0.0 as bigint)) AS bmw#3372L, coalesce(chevrolet#3305L, cast(0.0 as bigint)) AS chevrolet#3373L, coalesce(dodge#3306L, cast(0.0 as bigint)) AS dodge#3374L, coalesce(honda#3307L, cast(0.0 as bigint)) AS honda#3375L, coalesce(isuzu#3308L, cast(0.0 as bigint)) AS isuzu#3376L, coalesce(jaguar#3309L, cast(0.0 as bigint)) AS jaguar#3377L, coalesce(mazda#3310L, cast(0.0 as bigint)) AS mazda#3378L, coalesce(mercedes-benz#3311L, cast(0.0 as bigint)) AS mercedes-benz#3379L, coalesce(mercury#3312L, cast(0.0 as bigint)) AS mercury#3380L, coalesce(mitsubishi#3313L, cast(0.0 as bigint)) AS mitsubishi#3381L, coalesce(nissan#3314L, cast(0.0 as bigint)) AS nissan#3382L, coalesce(peugot#3315L, cast(0.0 as bigint)) AS peugot#3383L, coalesce(plymouth#3316L, cast(0.0 as bigint)) AS plymouth#3384L, coalesce(porsche#3317L, cast(0.0 as bigint)) AS porsche#3385L, coalesce(renault#3318L, cast(0.0 as bigint)) AS renault#3386L, coalesce(saab#3319L, cast(0.0 as bigint)) AS saab#3387L, coalesce(subaru#3320L, cast(0.0 as bigint)) AS subaru#3388L, coalesce(toyota#3321L, cast(0.0 as bigint)) AS toyota#3389L, coalesce(volkswagen#3322L, cast(0.0 as bigint)) AS volkswagen#3390L, coalesce(volvo#3323L, cast(0.0 as bigint)) AS volvo#3391L]\n   +- LocalRelation [engine-location_make#3301, alfa-romero#3302L, audi#3303L, bmw#3304L, chevrolet#3305L, dodge#3306L, honda#3307L, isuzu#3308L, jaguar#3309L, mazda#3310L, mercedes-benz#3311L, mercury#3312L, mitsubishi#3313L, nissan#3314L, peugot#3315L, plymouth#3316L, porsche#3317L, renault#3318L, saab#3319L, subaru#3320L, toyota#3321L, volkswagen#3322L, volvo#3323L]\n",
     "output_type": "error",
     "traceback": [
      "\u001b[1;31m---------------------------------------------------------------------------\u001b[0m",
      "\u001b[1;31mAnalysisException\u001b[0m                         Traceback (most recent call last)",
      "\u001b[1;32m<ipython-input-20-a052b9c84138>\u001b[0m in \u001b[0;36m<module>\u001b[1;34m\u001b[0m\n\u001b[1;32m----> 1\u001b[1;33m \u001b[0mdf\u001b[0m\u001b[1;33m.\u001b[0m\u001b[0mcrosstab\u001b[0m\u001b[1;33m(\u001b[0m\u001b[1;34m'engine-location'\u001b[0m\u001b[1;33m,\u001b[0m \u001b[1;34m'make'\u001b[0m\u001b[1;33m)\u001b[0m\u001b[1;33m.\u001b[0m\u001b[0msort\u001b[0m\u001b[1;33m(\u001b[0m\u001b[1;34m'make'\u001b[0m\u001b[1;33m)\u001b[0m\u001b[1;33m.\u001b[0m\u001b[0mshow\u001b[0m\u001b[1;33m(\u001b[0m\u001b[1;33m)\u001b[0m\u001b[1;33m\u001b[0m\u001b[1;33m\u001b[0m\u001b[0m\n\u001b[0m",
      "\u001b[1;32m~\\anaconda3\\envs\\hello-spark\\lib\\site-packages\\pyspark\\sql\\dataframe.py\u001b[0m in \u001b[0;36msort\u001b[1;34m(self, *cols, **kwargs)\u001b[0m\n\u001b[0;32m   1193\u001b[0m         \u001b[1;33m[\u001b[0m\u001b[0mRow\u001b[0m\u001b[1;33m(\u001b[0m\u001b[0mage\u001b[0m\u001b[1;33m=\u001b[0m\u001b[1;36m5\u001b[0m\u001b[1;33m,\u001b[0m \u001b[0mname\u001b[0m\u001b[1;33m=\u001b[0m\u001b[1;34mu'Bob'\u001b[0m\u001b[1;33m)\u001b[0m\u001b[1;33m,\u001b[0m \u001b[0mRow\u001b[0m\u001b[1;33m(\u001b[0m\u001b[0mage\u001b[0m\u001b[1;33m=\u001b[0m\u001b[1;36m2\u001b[0m\u001b[1;33m,\u001b[0m \u001b[0mname\u001b[0m\u001b[1;33m=\u001b[0m\u001b[1;34mu'Alice'\u001b[0m\u001b[1;33m)\u001b[0m\u001b[1;33m]\u001b[0m\u001b[1;33m\u001b[0m\u001b[1;33m\u001b[0m\u001b[0m\n\u001b[0;32m   1194\u001b[0m         \"\"\"\n\u001b[1;32m-> 1195\u001b[1;33m         \u001b[0mjdf\u001b[0m \u001b[1;33m=\u001b[0m \u001b[0mself\u001b[0m\u001b[1;33m.\u001b[0m\u001b[0m_jdf\u001b[0m\u001b[1;33m.\u001b[0m\u001b[0msort\u001b[0m\u001b[1;33m(\u001b[0m\u001b[0mself\u001b[0m\u001b[1;33m.\u001b[0m\u001b[0m_sort_cols\u001b[0m\u001b[1;33m(\u001b[0m\u001b[0mcols\u001b[0m\u001b[1;33m,\u001b[0m \u001b[0mkwargs\u001b[0m\u001b[1;33m)\u001b[0m\u001b[1;33m)\u001b[0m\u001b[1;33m\u001b[0m\u001b[1;33m\u001b[0m\u001b[0m\n\u001b[0m\u001b[0;32m   1196\u001b[0m         \u001b[1;32mreturn\u001b[0m \u001b[0mDataFrame\u001b[0m\u001b[1;33m(\u001b[0m\u001b[0mjdf\u001b[0m\u001b[1;33m,\u001b[0m \u001b[0mself\u001b[0m\u001b[1;33m.\u001b[0m\u001b[0msql_ctx\u001b[0m\u001b[1;33m)\u001b[0m\u001b[1;33m\u001b[0m\u001b[1;33m\u001b[0m\u001b[0m\n\u001b[0;32m   1197\u001b[0m \u001b[1;33m\u001b[0m\u001b[0m\n",
      "\u001b[1;32m~\\anaconda3\\envs\\hello-spark\\lib\\site-packages\\py4j\\java_gateway.py\u001b[0m in \u001b[0;36m__call__\u001b[1;34m(self, *args)\u001b[0m\n\u001b[0;32m   1303\u001b[0m         \u001b[0manswer\u001b[0m \u001b[1;33m=\u001b[0m \u001b[0mself\u001b[0m\u001b[1;33m.\u001b[0m\u001b[0mgateway_client\u001b[0m\u001b[1;33m.\u001b[0m\u001b[0msend_command\u001b[0m\u001b[1;33m(\u001b[0m\u001b[0mcommand\u001b[0m\u001b[1;33m)\u001b[0m\u001b[1;33m\u001b[0m\u001b[1;33m\u001b[0m\u001b[0m\n\u001b[0;32m   1304\u001b[0m         return_value = get_return_value(\n\u001b[1;32m-> 1305\u001b[1;33m             answer, self.gateway_client, self.target_id, self.name)\n\u001b[0m\u001b[0;32m   1306\u001b[0m \u001b[1;33m\u001b[0m\u001b[0m\n\u001b[0;32m   1307\u001b[0m         \u001b[1;32mfor\u001b[0m \u001b[0mtemp_arg\u001b[0m \u001b[1;32min\u001b[0m \u001b[0mtemp_args\u001b[0m\u001b[1;33m:\u001b[0m\u001b[1;33m\u001b[0m\u001b[1;33m\u001b[0m\u001b[0m\n",
      "\u001b[1;32m~\\anaconda3\\envs\\hello-spark\\lib\\site-packages\\pyspark\\sql\\utils.py\u001b[0m in \u001b[0;36mdeco\u001b[1;34m(*a, **kw)\u001b[0m\n\u001b[0;32m    135\u001b[0m                 \u001b[1;31m# Hide where the exception came from that shows a non-Pythonic\u001b[0m\u001b[1;33m\u001b[0m\u001b[1;33m\u001b[0m\u001b[1;33m\u001b[0m\u001b[0m\n\u001b[0;32m    136\u001b[0m                 \u001b[1;31m# JVM exception message.\u001b[0m\u001b[1;33m\u001b[0m\u001b[1;33m\u001b[0m\u001b[1;33m\u001b[0m\u001b[0m\n\u001b[1;32m--> 137\u001b[1;33m                 \u001b[0mraise_from\u001b[0m\u001b[1;33m(\u001b[0m\u001b[0mconverted\u001b[0m\u001b[1;33m)\u001b[0m\u001b[1;33m\u001b[0m\u001b[1;33m\u001b[0m\u001b[0m\n\u001b[0m\u001b[0;32m    138\u001b[0m             \u001b[1;32melse\u001b[0m\u001b[1;33m:\u001b[0m\u001b[1;33m\u001b[0m\u001b[1;33m\u001b[0m\u001b[0m\n\u001b[0;32m    139\u001b[0m                 \u001b[1;32mraise\u001b[0m\u001b[1;33m\u001b[0m\u001b[1;33m\u001b[0m\u001b[0m\n",
      "\u001b[1;32m~\\anaconda3\\envs\\hello-spark\\lib\\site-packages\\pyspark\\sql\\utils.py\u001b[0m in \u001b[0;36mraise_from\u001b[1;34m(e)\u001b[0m\n",
      "\u001b[1;31mAnalysisException\u001b[0m: cannot resolve '`make`' given input columns: [alfa-romero, audi, bmw, chevrolet, dodge, engine-location_make, honda, isuzu, jaguar, mazda, mercedes-benz, mercury, mitsubishi, nissan, peugot, plymouth, porsche, renault, saab, subaru, toyota, volkswagen, volvo];;\n'Sort ['make ASC NULLS FIRST], true\n+- Project [engine-location_make#3301, coalesce(alfa-romero#3302L, cast(0.0 as bigint)) AS alfa-romero#3370L, coalesce(audi#3303L, cast(0.0 as bigint)) AS audi#3371L, coalesce(bmw#3304L, cast(0.0 as bigint)) AS bmw#3372L, coalesce(chevrolet#3305L, cast(0.0 as bigint)) AS chevrolet#3373L, coalesce(dodge#3306L, cast(0.0 as bigint)) AS dodge#3374L, coalesce(honda#3307L, cast(0.0 as bigint)) AS honda#3375L, coalesce(isuzu#3308L, cast(0.0 as bigint)) AS isuzu#3376L, coalesce(jaguar#3309L, cast(0.0 as bigint)) AS jaguar#3377L, coalesce(mazda#3310L, cast(0.0 as bigint)) AS mazda#3378L, coalesce(mercedes-benz#3311L, cast(0.0 as bigint)) AS mercedes-benz#3379L, coalesce(mercury#3312L, cast(0.0 as bigint)) AS mercury#3380L, coalesce(mitsubishi#3313L, cast(0.0 as bigint)) AS mitsubishi#3381L, coalesce(nissan#3314L, cast(0.0 as bigint)) AS nissan#3382L, coalesce(peugot#3315L, cast(0.0 as bigint)) AS peugot#3383L, coalesce(plymouth#3316L, cast(0.0 as bigint)) AS plymouth#3384L, coalesce(porsche#3317L, cast(0.0 as bigint)) AS porsche#3385L, coalesce(renault#3318L, cast(0.0 as bigint)) AS renault#3386L, coalesce(saab#3319L, cast(0.0 as bigint)) AS saab#3387L, coalesce(subaru#3320L, cast(0.0 as bigint)) AS subaru#3388L, coalesce(toyota#3321L, cast(0.0 as bigint)) AS toyota#3389L, coalesce(volkswagen#3322L, cast(0.0 as bigint)) AS volkswagen#3390L, coalesce(volvo#3323L, cast(0.0 as bigint)) AS volvo#3391L]\n   +- LocalRelation [engine-location_make#3301, alfa-romero#3302L, audi#3303L, bmw#3304L, chevrolet#3305L, dodge#3306L, honda#3307L, isuzu#3308L, jaguar#3309L, mazda#3310L, mercedes-benz#3311L, mercury#3312L, mitsubishi#3313L, nissan#3314L, peugot#3315L, plymouth#3316L, porsche#3317L, renault#3318L, saab#3319L, subaru#3320L, toyota#3321L, volkswagen#3322L, volvo#3323L]\n"
     ]
    }
   ],
   "source": [
    "df.crosstab('engine-location', 'make').sort('make').show()"
   ]
  },
  {
   "cell_type": "code",
   "execution_count": null,
   "metadata": {},
   "outputs": [],
   "source": []
  }
 ],
 "metadata": {
  "kernelspec": {
   "display_name": "Python 3",
   "language": "python",
   "name": "python3"
  },
  "language_info": {
   "codemirror_mode": {
    "name": "ipython",
    "version": 3
   },
   "file_extension": ".py",
   "mimetype": "text/x-python",
   "name": "python",
   "nbconvert_exporter": "python",
   "pygments_lexer": "ipython3",
   "version": "3.6.12"
  }
 },
 "nbformat": 4,
 "nbformat_minor": 4
}
